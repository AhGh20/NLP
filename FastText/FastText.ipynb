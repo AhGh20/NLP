{
 "cells": [
  {
   "cell_type": "code",
   "id": "initial_id",
   "metadata": {
    "collapsed": true,
    "ExecuteTime": {
     "end_time": "2025-04-13T07:36:32.556808Z",
     "start_time": "2025-04-13T07:36:30.336624Z"
    }
   },
   "source": [
    "import json\n",
    "import re\n",
    "import string\n",
    "import nltk\n",
    "from nltk.tokenize import word_tokenize\n",
    "from nltk.corpus import stopwords"
   ],
   "outputs": [],
   "execution_count": 1
  },
  {
   "metadata": {
    "ExecuteTime": {
     "end_time": "2025-04-13T07:36:32.901588Z",
     "start_time": "2025-04-13T07:36:32.571982Z"
    }
   },
   "cell_type": "code",
   "source": [
    "nltk.download(\"punkt\")\n",
    "nltk.download(\"stopwords\")\n"
   ],
   "id": "55301667bda2a0bc",
   "outputs": [
    {
     "name": "stderr",
     "output_type": "stream",
     "text": [
      "[nltk_data] Downloading package punkt to\n",
      "[nltk_data]     C:\\Users\\Ghazali\\AppData\\Roaming\\nltk_data...\n",
      "[nltk_data]   Package punkt is already up-to-date!\n",
      "[nltk_data] Downloading package stopwords to\n",
      "[nltk_data]     C:\\Users\\Ghazali\\AppData\\Roaming\\nltk_data...\n",
      "[nltk_data]   Package stopwords is already up-to-date!\n"
     ]
    },
    {
     "data": {
      "text/plain": [
       "True"
      ]
     },
     "execution_count": 2,
     "metadata": {},
     "output_type": "execute_result"
    }
   ],
   "execution_count": 2
  },
  {
   "metadata": {
    "ExecuteTime": {
     "end_time": "2025-04-13T07:36:33.166511Z",
     "start_time": "2025-04-13T07:36:33.122362Z"
    }
   },
   "cell_type": "code",
   "source": [
    "# the number of lines to read\n",
    "N = 500\n",
    "\n",
    "file_path = \"yelp_academic_dataset_tip.json\"\n",
    "corp = []\n",
    "\n",
    "stop_words = set(stopwords.words(\"english\"))\n",
    "\n",
    "with open(file_path, \"r\", encoding=\"utf-8\") as f:\n",
    "    for i, line in enumerate(f):\n",
    "        if i >= N:\n",
    "            break\n",
    "\n",
    "        data = json.loads(line)\n",
    "        text = data.get(\"text\", \"\").lower()  # Extract \"text\" column and convert to lowercase\n",
    "        text = re.sub(r\"[^\\w\\s]\", \"\", text)  # Remove punctuation\n",
    "        text = re.sub(r\"\\d+\", \"\", text)\n",
    "        tokens = word_tokenize(text)\n",
    "        tokens = [word for word in tokens if word not in stop_words]\n",
    "        corp.append(tokens)\n",
    "\n",
    "#sample processed text\n",
    "print(\"Sample Processed Text:\", corp[:30])\n"
   ],
   "id": "b764f4322b83ad95",
   "outputs": [
    {
     "name": "stdout",
     "output_type": "stream",
     "text": [
      "Sample Processed Text: [['avengers', 'time', 'ladies'], ['lots', 'good', 'deserts', 'tasty', 'cuban', 'sandwiches'], ['open', 'even', 'think', 'isnt'], ['decent', 'fried', 'chicken'], ['appetizers', 'platter', 'special', 'lunch'], ['chili', 'cup', 'single', 'cheeseburger', 'onion', 'pickle', 'relish', 'vanilla', 'cocacolaso', 'far'], ['saturday', 'dec', 'th', 'ride', 'patcos', 'silver', 'sleigh', 'w', 'santa', 'elves', 'decorated', 'train', 'center', 'city', 'trains', 'leave', 'lindenwold', 'pm', 'make', 'stops', 'great', 'kids'], ['probably', 'best', 'place', 'cool', 'springs', 'area', 'watch', 'game', 'eat'], ['tacos'], ['starbucks', 'substitute', 'boring', 'downtown', 'tampa', 'ugh', 'never'], ['order', 'tortilla', 'soup'], ['good', 'definitely', 'coming', 'back'], ['hotlight', 'must', 'stop'], ['lets', 'go', 'yankees'], ['basically', 'food', 'rallys'], ['dont', 'go', 'dinner', 'close', 'really', 'yvonne', 'l', 'negative', 'stars', 'restaurant', 'didnt', 'never', 'intended', 'eat'], ['mins', 'take', 'right', 'right', 'tight'], ['got', 'grilled', 'chicken', 'entree', 'delicious', 'small', 'portion', 'like', 'environment', 'sure', 'though'], ['bomb', 'love', 'dish', 'try', 'youll', 'like', 'lol'], ['helping', 'mona', 'find', 'new', 'phone'], ['yes', 'im', 'eating', 'breakfast'], ['order', 'crispy', 'bake', 'good'], ['crepes', 'please'], ['pimento', 'cheese', 'tastes', 'great', 'large', 'portion', 'starter', 'great', 'sharing', 'fried', 'pickles', 'also', 'awesome'], ['havent', 'good', 'used', 'place', 'west', 'coast', 'called', 'carl', 'jr', 'applicable', 'please', 'dont', 'come', 'turkey', 'burger', 'longer', 'menu'], ['everything', 'yummy'], ['allow', 'time', 'wait', 'food'], ['looks', 'like', 'mini', 'burgers', 'similar', 'white', 'castle'], ['icky', 'tap'], ['great', 'breakfast', 'buffet', 'open', 'public', 'also']]\n"
     ]
    }
   ],
   "execution_count": 3
  },
  {
   "metadata": {
    "ExecuteTime": {
     "end_time": "2025-04-13T07:58:12.944786Z",
     "start_time": "2025-04-13T07:58:12.941434Z"
    }
   },
   "cell_type": "code",
   "source": "#Step 1",
   "id": "4a4dccf4524e0a6d",
   "outputs": [],
   "execution_count": 6
  },
  {
   "metadata": {
    "ExecuteTime": {
     "end_time": "2025-04-12T11:57:43.077717Z",
     "start_time": "2025-04-12T11:57:39.851083Z"
    }
   },
   "cell_type": "code",
   "source": "!pip install gensim\n",
   "id": "d1ad1d3762655505",
   "outputs": [
    {
     "name": "stdout",
     "output_type": "stream",
     "text": [
      "Defaulting to user installation because normal site-packages is not writeable\n",
      "Requirement already satisfied: gensim in c:\\users\\ghazali\\appdata\\roaming\\python\\python312\\site-packages (4.3.3)\n",
      "Requirement already satisfied: numpy<2.0,>=1.18.5 in c:\\users\\ghazali\\appdata\\roaming\\python\\python312\\site-packages (from gensim) (1.26.4)\n",
      "Requirement already satisfied: scipy<1.14.0,>=1.7.0 in c:\\users\\ghazali\\appdata\\roaming\\python\\python312\\site-packages (from gensim) (1.13.1)\n",
      "Requirement already satisfied: smart-open>=1.8.1 in c:\\users\\ghazali\\appdata\\roaming\\python\\python312\\site-packages (from gensim) (7.1.0)\n",
      "Requirement already satisfied: wrapt in c:\\program files\\python312\\lib\\site-packages (from smart-open>=1.8.1->gensim) (1.17.2)\n"
     ]
    },
    {
     "name": "stderr",
     "output_type": "stream",
     "text": [
      "\n",
      "[notice] A new release of pip is available: 24.0 -> 25.0.1\n",
      "[notice] To update, run: python.exe -m pip install --upgrade pip\n"
     ]
    }
   ],
   "execution_count": 6
  },
  {
   "metadata": {
    "ExecuteTime": {
     "end_time": "2025-04-13T07:58:15.666929Z",
     "start_time": "2025-04-13T07:58:15.218673Z"
    }
   },
   "cell_type": "code",
   "source": [
    "import numpy\n",
    "import gensim\n",
    "\n",
    "print(\"NumPy version:\", numpy.__version__)\n",
    "print(\"Gensim version:\", gensim.__version__)\n"
   ],
   "id": "6979850d00bc3dd4",
   "outputs": [
    {
     "name": "stdout",
     "output_type": "stream",
     "text": [
      "NumPy version: 1.26.4\n",
      "Gensim version: 4.3.3\n"
     ]
    }
   ],
   "execution_count": 7
  },
  {
   "metadata": {
    "ExecuteTime": {
     "end_time": "2025-04-13T07:35:23.849576Z",
     "start_time": "2025-04-13T07:35:15.951850Z"
    }
   },
   "cell_type": "code",
   "source": [
    "from gensim.models import FastText\n",
    "\n",
    "# the n grams here is default 3 to 6\n",
    "model = FastText(sentences=corp, vector_size=300, window=2, workers=8 )\n",
    "# Save the model\n",
    "model.save(\"yelp_fasttext.bin\")\n"
   ],
   "id": "1c5a10d56be92cdd",
   "outputs": [],
   "execution_count": 44
  },
  {
   "metadata": {
    "ExecuteTime": {
     "end_time": "2025-04-13T07:38:18.988097Z",
     "start_time": "2025-04-13T07:38:18.972402Z"
    }
   },
   "cell_type": "code",
   "source": [
    "# Test: Find similar and opposite words\n",
    "word = \"food\"\n",
    "print(\"Similar words:\", model.wv.most_similar(word, topn=10))\n",
    "print(\"Opposite words:\", model.wv.most_similar(negative=[word], topn=10))\n"
   ],
   "id": "2c26a261eaca9e47",
   "outputs": [
    {
     "name": "stdout",
     "output_type": "stream",
     "text": [
      "Similar words: [('seafood', 0.606755256652832), ('good', 0.5747077465057373), ('looking', 0.5512557029724121), ('bring', 0.5353032350540161), ('thing', 0.5351284146308899), ('amazing', 0.5322558283805847), ('everything', 0.5271458029747009), ('service', 0.5234354734420776), ('rice', 0.5233467221260071), ('parking', 0.5214540362358093)]\n",
      "Opposite words: [('know', -0.04041145369410515), ('w', -0.04157042130827904), ('burritos', -0.04240736365318298), ('omg', -0.04788198694586754), ('kids', -0.05802932381629944), ('oh', -0.06996455788612366), ('enjoy', -0.07522227615118027), ('ask', -0.08398062735795975), ('inside', -0.08483602851629257), ('miss', -0.08858897536993027)]\n"
     ]
    }
   ],
   "execution_count": 48
  },
  {
   "metadata": {
    "ExecuteTime": {
     "end_time": "2025-04-13T07:38:56.653929Z",
     "start_time": "2025-04-13T07:38:44.253657Z"
    }
   },
   "cell_type": "code",
   "source": [
    "from gensim.models.fasttext import FastText\n",
    "\n",
    "#Loading the model after training\n",
    "model_gensim = FastText.load(\"yelp_fasttext.bin\")\n",
    "word = \"food\"\n",
    "print(\"Similar words:\", model_gensim.wv.most_similar(word, topn=10))\n",
    "print(\"Opposite words:\", model_gensim.wv.most_similar(negative=[word], topn=10))\n",
    "\n"
   ],
   "id": "669c094679e6e3f0",
   "outputs": [
    {
     "name": "stdout",
     "output_type": "stream",
     "text": [
      "Similar words: [('seafood', 0.606755256652832), ('good', 0.5747077465057373), ('looking', 0.5512557029724121), ('bring', 0.5353032350540161), ('thing', 0.5351284146308899), ('amazing', 0.5322558283805847), ('everything', 0.5271458029747009), ('service', 0.5234354734420776), ('rice', 0.5233467221260071), ('parking', 0.5214540362358093)]\n",
      "Opposite words: [('know', -0.04041145369410515), ('w', -0.04157042130827904), ('burritos', -0.04240736365318298), ('omg', -0.04788198694586754), ('kids', -0.05802932381629944), ('oh', -0.06996455788612366), ('enjoy', -0.07522227615118027), ('ask', -0.08398062735795975), ('inside', -0.08483602851629257), ('miss', -0.08858897536993027)]\n"
     ]
    }
   ],
   "execution_count": 50
  },
  {
   "metadata": {
    "ExecuteTime": {
     "end_time": "2025-04-13T07:58:18.229542Z",
     "start_time": "2025-04-13T07:58:17.624780Z"
    }
   },
   "cell_type": "code",
   "source": [
    "from gensim.models import FastText\n",
    "from sklearn.manifold import TSNE\n",
    "import matplotlib.pyplot as plt\n",
    "import numpy as np\n",
    "\n",
    "\n",
    "# Visualization function\n",
    "def visualize_words(model, keywords, title):\n",
    "    labels = []\n",
    "    vectors = []\n",
    "\n",
    "    for word in keywords:\n",
    "        try:\n",
    "            vectors.append(model.wv[word])\n",
    "            labels.append(word)\n",
    "\n",
    "            similar_words = model.wv.most_similar(word, topn=5)\n",
    "            for sim_word, _ in similar_words:\n",
    "                if sim_word not in labels:\n",
    "                    vectors.append(model.wv[sim_word])\n",
    "                    labels.append(sim_word)\n",
    "        except KeyError:\n",
    "            print(f\"'{word}' not found in vocabulary\")\n",
    "\n",
    "    tsne = TSNE(n_components=2, random_state=42, perplexity=5, max_iter=1000)\n",
    "    reduced =  tsne.fit_transform(np.array(vectors))\n",
    "\n",
    "    plt.figure(figsize=(10, 8))\n",
    "    for i, label in enumerate(labels):\n",
    "        x, y = reduced[i]\n",
    "        plt.scatter(x, y)\n",
    "        plt.annotate(label, (x, y), fontsize=12)\n",
    "    plt.title(title)\n",
    "    plt.grid(True)\n",
    "    plt.show()\n"
   ],
   "id": "8a528bc97b7690d5",
   "outputs": [],
   "execution_count": 8
  },
  {
   "metadata": {
    "ExecuteTime": {
     "end_time": "2025-04-13T07:39:22.730887Z",
     "start_time": "2025-04-13T07:39:02.120784Z"
    }
   },
   "cell_type": "code",
   "source": [
    "\n",
    "gensim_model = FastText.load(\"yelp_fasttext.bin\")\n",
    "\n",
    "keywords = [\"food\"]\n",
    "visualize_words(gensim_model, keywords, \"gensim FastText Model\")\n"
   ],
   "id": "dd22edb5d3c661a8",
   "outputs": [
    {
     "data": {
      "text/plain": [
       "<Figure size 1000x800 with 1 Axes>"
      ],
      "image/png": "[encoded data removed]"
     },
     "metadata": {},
     "output_type": "display_data"
    }
   ],
   "execution_count": 52
  },
  {
   "metadata": {
    "ExecuteTime": {
     "end_time": "2025-04-01T18:05:52.302010Z",
     "start_time": "2025-04-01T18:05:52.290910Z"
    }
   },
   "cell_type": "code",
   "source": "#Step 2",
   "id": "2f98d5cfe946545a",
   "outputs": [],
   "execution_count": 8
  },
  {
   "metadata": {
    "ExecuteTime": {
     "end_time": "2025-04-13T07:54:22.234706Z",
     "start_time": "2025-04-13T07:49:39.576827Z"
    }
   },
   "cell_type": "code",
   "source": [
    "from gensim.models.fasttext import load_facebook_vectors\n",
    "\n",
    "\n",
    "model_path = r\"cc.en.300.bin\"\n",
    "\n",
    "model_FastText = load_facebook_vectors(model_path)\n",
    "\n",
    "food_vector = model_FastText['food']\n",
    "\n"
   ],
   "id": "405177f0c65f2819",
   "outputs": [],
   "execution_count": 1
  },
  {
   "metadata": {
    "ExecuteTime": {
     "end_time": "2025-04-13T07:54:51.273046Z",
     "start_time": "2025-04-13T07:54:34.396117Z"
    }
   },
   "cell_type": "code",
   "source": [
    "\n",
    "print(\"Vector for 'food':\", food_vector)\n",
    "\n",
    "\n",
    "similar_words = model_FastText.most_similar('food', topn=10)\n",
    "print(\"Similar words for 'food':\", similar_words)\n",
    "\n",
    "\n",
    "opposite_words = model_FastText.most_similar(negative=['food'], topn=10)\n",
    "print(\"Opposite-like words for 'food':\", opposite_words)"
   ],
   "id": "235c91131ac40a4c",
   "outputs": [
    {
     "name": "stdout",
     "output_type": "stream",
     "text": [
      "Vector for 'food': [-4.69152741e-02  1.68383121e-01  4.13426869e-02  1.18724920e-01\n",
      "  7.44421110e-02  1.02483042e-01  2.74693608e-01 -4.99803238e-02\n",
      " -3.82178761e-02  4.71118502e-02 -3.11280210e-02 -5.12010790e-02\n",
      "  1.51163474e-01  1.00542158e-01  7.52756223e-02 -1.69176459e-02\n",
      "  3.12395822e-02 -5.45234829e-02 -4.95291837e-02 -1.42963724e-02\n",
      "  5.96748590e-02  2.91416850e-02 -6.94199130e-02  8.32179263e-02\n",
      " -1.35028185e-02 -3.81789096e-02  1.16999112e-01 -2.49370918e-01\n",
      " -8.12098309e-02  9.88174453e-02 -4.43214066e-02  1.25030294e-01\n",
      " -1.26223728e-01  2.89493543e-03  9.29308403e-03 -3.81546706e-04\n",
      "  2.77288798e-02  2.92868931e-02 -4.53447811e-02 -1.91768005e-01\n",
      " -2.89430525e-02 -2.51916726e-03 -2.45814268e-02  6.90041929e-02\n",
      " -1.95163682e-01 -6.18660860e-02 -1.35786876e-01 -6.75999001e-02\n",
      " -2.97333952e-02  1.07101642e-01 -8.46882761e-02 -1.87789977e-01\n",
      " -1.10659033e-01  1.21782444e-01 -1.46152601e-01  1.49076566e-01\n",
      "  1.35647282e-01 -1.59707293e-01 -1.56346440e-01  2.23593321e-02\n",
      "  1.59231760e-02 -8.30323920e-02 -4.47265096e-02  4.02291626e-04\n",
      " -3.25259306e-02 -7.71937296e-02  4.94050197e-02  6.35760427e-02\n",
      " -1.02073643e-02 -8.23190734e-02 -6.26947964e-03  4.32742853e-03\n",
      " -1.01628721e-01 -4.98445369e-02  9.11056921e-02 -1.19865574e-01\n",
      "  7.78576359e-03  2.05262944e-01 -7.69117177e-02 -4.36178893e-02\n",
      "  4.59757559e-02  1.48709363e-03 -9.39297974e-02 -1.60217866e-01\n",
      " -2.27055568e-02 -3.04933917e-02 -9.01432633e-02  4.98978011e-02\n",
      " -3.92207988e-02  7.62225268e-03 -2.41781329e-03 -1.10555321e-01\n",
      " -2.58021373e-02  2.73826662e-02  3.97468694e-02  1.07356451e-01\n",
      " -1.30029870e-02  1.39190501e-03  6.81417761e-03 -4.95436378e-02\n",
      "  2.60013551e-03  8.28525200e-02  3.23028751e-02 -2.13830471e-02\n",
      " -7.31959566e-02 -1.04023388e-03 -2.40246728e-02 -1.10693544e-01\n",
      " -1.61034927e-01 -1.38697013e-01  1.25889033e-02 -8.72907564e-02\n",
      "  5.44934608e-02  1.08957626e-01  3.30409147e-02  2.53069997e-02\n",
      " -1.96849301e-01  8.24806914e-02 -4.44044173e-02 -2.45136395e-02\n",
      " -3.97160351e-02 -3.42275836e-02 -1.07279383e-01  2.28177413e-01\n",
      " -4.00687344e-02 -7.75919780e-02  3.60343456e-02  3.49037126e-02\n",
      "  1.18376613e-02  5.57526015e-02  1.16382865e-02  1.50788724e-02\n",
      "  5.38676083e-02 -3.47075947e-02  1.50539443e-01 -5.70340008e-02\n",
      "  1.81642115e-01 -2.60351654e-02  3.10961287e-02 -2.93854773e-02\n",
      "  3.84350121e-02 -1.50635526e-01  3.79475653e-02 -5.93207888e-02\n",
      " -3.35543565e-02 -3.51852477e-02 -1.63174361e-01 -1.66162867e-02\n",
      " -5.24047203e-02  7.87351653e-02 -8.95737186e-02  8.03295523e-03\n",
      " -2.19082311e-02 -1.31813958e-01 -5.02497144e-02  8.36123619e-03\n",
      "  3.77852283e-02  1.31676063e-01 -3.65579166e-02 -4.56715636e-02\n",
      " -2.45318171e-02  1.32559404e-01  1.20819546e-01 -1.01197362e-01\n",
      " -9.54815075e-02  3.66366911e-03 -2.28907000e-02  7.20027601e-03\n",
      "  8.18091780e-02  3.23429815e-02 -2.01474175e-01 -3.42639796e-02\n",
      " -7.26770749e-03  1.80107856e-03  4.13512625e-02 -2.85340901e-02\n",
      "  4.37773317e-02  4.85977344e-02  9.30341557e-02 -7.46525899e-02\n",
      "  3.44536044e-02 -1.20217927e-01 -1.30099021e-02 -1.16331242e-01\n",
      "  1.10280104e-01  2.01518480e-02  1.83768794e-02 -5.08287512e-02\n",
      "  8.13245103e-02 -7.45811090e-02 -7.90888742e-02  2.87506375e-02\n",
      " -1.00435294e-01 -1.46837249e-01 -2.33993754e-02 -3.21653229e-03\n",
      "  6.54444695e-02  8.76218677e-02 -9.10578147e-02  2.71414709e-03\n",
      "  1.04514264e-01  1.57747269e-02  5.78329153e-02 -1.10802799e-03\n",
      "  1.02647915e-02 -1.80411618e-02 -4.46116813e-02  4.08874340e-02\n",
      "  6.15940206e-02  2.03953102e-01  1.95439216e-02 -1.51888698e-01\n",
      " -6.18829345e-03 -6.60497695e-02 -1.28127746e-02  1.06495954e-01\n",
      " -6.36366904e-02 -1.74755026e-02 -7.05275834e-02  1.75300792e-01\n",
      "  2.72061527e-02  1.95421562e-01 -2.28370335e-02  2.05176580e-03\n",
      " -5.68586588e-02 -2.81638335e-02  8.72768275e-03  1.87908158e-01\n",
      " -7.34620988e-02 -8.09697807e-02 -2.14918610e-03  3.85711454e-02\n",
      "  5.93188144e-02  1.29265949e-01 -2.62124334e-02 -5.01608439e-02\n",
      "  9.42305326e-02 -1.61588322e-02  5.01170047e-02  1.55333159e-02\n",
      "  9.47208405e-02  1.86005142e-02 -3.33453752e-02 -1.05560698e-01\n",
      "  1.53750345e-01 -3.11321765e-02  1.67290587e-02 -1.39709368e-01\n",
      "  9.05756131e-02  1.65850725e-02  1.33975400e-02  3.15162353e-02\n",
      " -1.73192844e-01 -1.01772159e-01  1.77811831e-04  8.96398444e-03\n",
      " -1.23605929e-01  7.67826959e-02  9.80000868e-02 -5.57751022e-02\n",
      " -1.08560391e-01 -5.33346795e-02  6.64436817e-03 -2.39407998e-02\n",
      " -7.68634230e-02  1.26230881e-01 -2.14500561e-01 -7.98557401e-02\n",
      " -4.16837931e-02 -5.29250503e-02 -9.18355286e-02  7.54762962e-02\n",
      " -6.40050694e-02  6.15519173e-02 -9.08635482e-02  3.23074567e-03\n",
      " -4.35359776e-02  5.66154830e-02 -1.60594191e-02 -2.66101807e-02\n",
      " -5.87826483e-02  1.49600938e-01 -8.46120715e-02  1.46511331e-01\n",
      " -1.89468190e-02 -4.11335751e-02 -9.37416498e-03 -3.60915177e-02\n",
      "  5.93993180e-02 -9.89233553e-02 -3.95781137e-02  4.75753099e-02\n",
      " -5.86266555e-02  4.62585799e-02  2.36541983e-02  5.11558764e-02\n",
      " -2.53761355e-02  1.94071993e-01  6.48256242e-02 -4.30086665e-02]\n",
      "Similar words for 'food': [('foods', 0.6941332221031189), ('food--', 0.6820893287658691), ('food.Food', 0.6818563938140869), ('Food', 0.6727529168128967), ('food-', 0.6656442880630493), ('food.It', 0.664244532585144), ('food.But', 0.6608163714408875), ('food.As', 0.6606144905090332), ('food.The', 0.6571811437606812), ('foood', 0.6563941836357117)]\n",
      "Opposite-like words for 'food': [('318ti.org', 0.20920822024345398), ('1.0000', 0.20667524635791779), ('Modèle', 0.20604346692562103), ('Arminius', 0.2015782743692398), ('6.0x', 0.2010239213705063), ('Quatuor', 0.20066417753696442), ('BREACH', 0.19973495602607727), ('TORR', 0.19967423379421234), ('Boutell', 0.1992933750152588), ('CS-6', 0.19844482839107513)]\n"
     ]
    }
   ],
   "execution_count": 2
  },
  {
   "metadata": {
    "ExecuteTime": {
     "end_time": "2025-04-13T07:36:39.871415Z",
     "start_time": "2025-04-13T07:36:39.262553Z"
    }
   },
   "cell_type": "code",
   "source": [
    "from sklearn.manifold import TSNE\n",
    "import matplotlib.pyplot as plt\n",
    "import numpy as np\n",
    "def visualize_words_300(model, keywords, title):\n",
    "    vectors = []\n",
    "    labels = []\n",
    "\n",
    "    for word in keywords:\n",
    "        try:\n",
    "            vectors.append(model[word])\n",
    "            labels.append(word)\n",
    "\n",
    "            similar_words = model.most_similar(word, topn=5)\n",
    "            for sim_word, _ in similar_words:\n",
    "                vectors.append(model[sim_word])\n",
    "                labels.append(sim_word)\n",
    "        except KeyError:\n",
    "            print(f\"Word '{word}' not in vocabulary.\")\n",
    "\n",
    "    vectors = np.array(vectors)\n",
    "\n",
    "\n",
    "    if len(vectors) <= 5:\n",
    "        raise ValueError(\"Not enough data points for t-SNE (must be > perplexity).\")\n",
    "\n",
    "    tsne = TSNE(n_components=2, random_state=0, perplexity=5, max_iter=1000)\n",
    "    reduced = tsne.fit_transform(vectors)\n",
    "\n",
    "    plt.figure(figsize=(10, 8))\n",
    "    plt.scatter(reduced[:, 0], reduced[:, 1])\n",
    "\n",
    "    for i, label in enumerate(labels):\n",
    "        plt.annotate(label, (reduced[i, 0], reduced[i, 1]))\n",
    "\n",
    "    plt.title(title)\n",
    "    plt.grid(True)\n",
    "    plt.show()\n"
   ],
   "id": "f4f2df5a2b2c0eb",
   "outputs": [],
   "execution_count": 4
  },
  {
   "metadata": {
    "ExecuteTime": {
     "end_time": "2025-04-13T08:13:13.818268Z",
     "start_time": "2025-04-13T08:09:31.631245Z"
    }
   },
   "cell_type": "code",
   "source": [
    "from gensim.models.fasttext import load_facebook_vectors\n",
    "\n",
    "gensim_model = load_facebook_vectors(\"cc.en.300.bin\")\n",
    "keywords = [\"food\"]\n",
    "\n"
   ],
   "id": "e46869c6caf2c047",
   "outputs": [],
   "execution_count": 5
  },
  {
   "metadata": {
    "ExecuteTime": {
     "end_time": "2025-04-13T08:14:45.010177Z",
     "start_time": "2025-04-13T08:14:45.000640Z"
    }
   },
   "cell_type": "code",
   "source": "",
   "id": "46ba8667717823bf",
   "outputs": [
    {
     "name": "stdout",
     "output_type": "stream",
     "text": [
      "['food']\n"
     ]
    }
   ],
   "execution_count": 10
  },
  {
   "metadata": {
    "ExecuteTime": {
     "end_time": "2025-04-13T08:14:26.032865Z",
     "start_time": "2025-04-13T08:14:24.912595Z"
    }
   },
   "cell_type": "code",
   "source": "visualize_words_300(gensim_model, keywords, \"cc.en.300 FastText Model\")\n",
   "id": "4bc7b62ad24b52c4",
   "outputs": [
    {
     "name": "stderr",
     "output_type": "stream",
     "text": [
      "C:\\Program Files\\Python312\\Lib\\site-packages\\joblib\\externals\\loky\\backend\\context.py:136: UserWarning: Could not find the number of physical cores for the following reason:\n",
      "[WinError 2] The system cannot find the file specified\n",
      "Returning the number of logical cores instead. You can silence this warning by setting LOKY_MAX_CPU_COUNT to the number of cores you want to use.\n",
      "  warnings.warn(\n",
      "  File \"C:\\Program Files\\Python312\\Lib\\site-packages\\joblib\\externals\\loky\\backend\\context.py\", line 257, in _count_physical_cores\n",
      "    cpu_info = subprocess.run(\n",
      "               ^^^^^^^^^^^^^^^\n",
      "  File \"C:\\Program Files\\Python312\\Lib\\subprocess.py\", line 548, in run\n",
      "    with Popen(*popenargs, **kwargs) as process:\n",
      "         ^^^^^^^^^^^^^^^^^^^^^^^^^^^\n",
      "  File \"C:\\Program Files\\Python312\\Lib\\subprocess.py\", line 1026, in __init__\n",
      "    self._execute_child(args, executable, preexec_fn, close_fds,\n",
      "  File \"C:\\Program Files\\Python312\\Lib\\subprocess.py\", line 1538, in _execute_child\n",
      "    hp, ht, pid, tid = _winapi.CreateProcess(executable, args,\n",
      "                       ^^^^^^^^^^^^^^^^^^^^^^^^^^^^^^^^^^^^^^^\n"
     ]
    },
    {
     "data": {
      "text/plain": [
       "<Figure size 1000x800 with 1 Axes>"
      ],
      "image/png": "[encoded data removed]"
     },
     "metadata": {},
     "output_type": "display_data"
    }
   ],
   "execution_count": 9
  },
  {
   "metadata": {
    "ExecuteTime": {
     "end_time": "2025-04-01T18:02:34.616540Z",
     "start_time": "2025-04-01T18:02:34.608373Z"
    }
   },
   "cell_type": "code",
   "source": "#Step 3",
   "id": "ffff7b53ac44ad51",
   "outputs": [],
   "execution_count": 12
  },
  {
   "metadata": {
    "ExecuteTime": {
     "end_time": "2025-04-13T07:45:42.661517Z",
     "start_time": "2025-04-13T07:36:42.807507Z"
    }
   },
   "cell_type": "code",
   "source": [
    "from gensim.models.fasttext import load_facebook_model\n",
    "\n",
    "model = load_facebook_model(\"cc.en.300.bin\")\n",
    "\n",
    "model.build_vocab(corp, update=True)\n",
    "\n",
    "model.train(corp, total_examples=len(corp), epochs=3)\n",
    "\n",
    "# Save the updated model\n",
    "model.save(\"updated_fasttext_yelp.bin\")\n"
   ],
   "id": "c5ae4634e54c78e6",
   "outputs": [],
   "execution_count": 5
  },
  {
   "metadata": {
    "ExecuteTime": {
     "end_time": "2025-04-13T07:35:35.948217500Z",
     "start_time": "2025-04-12T16:17:35.026679Z"
    }
   },
   "cell_type": "code",
   "source": [
    "#1000 line\n",
    "word = \"food\"\n",
    "print(\"Similar words:\", model.wv.most_similar(word, topn=10))\n",
    "print(\"Opposite words:\", model.wv.most_similar(negative=[word], topn=10))\n"
   ],
   "id": "e387b6d073b8af9e",
   "outputs": [
    {
     "name": "stdout",
     "output_type": "stream",
     "text": [
      "Similar words: [('foods', 0.7101418375968933), ('food--', 0.6892086267471313), ('food.Food', 0.6853983998298645), ('food.However', 0.6814699172973633), ('food-', 0.6718795299530029), ('food.It', 0.6711847186088562), ('food.But', 0.6683051586151123), ('food.As', 0.6682285666465759), ('Food', 0.6680823564529419), ('food.The', 0.6639886498451233)]\n",
      "Opposite words: [('318ti.org', 0.20351459085941315), ('Modèle', 0.20137853920459747), ('1.0000', 0.2009362429380417), ('TORR', 0.19919227063655853), ('Arminius', 0.19694383442401886), ('Quatuor', 0.19538038969039917), ('BREACH', 0.19478459656238556), ('Propuesta', 0.19442413747310638), ('6.0x', 0.19432564079761505), ('Boutell', 0.19373778998851776)]\n"
     ]
    }
   ],
   "execution_count": 27
  },
  {
   "metadata": {
    "ExecuteTime": {
     "end_time": "2025-04-13T07:46:09.073310Z",
     "start_time": "2025-04-13T07:45:54.602725Z"
    }
   },
   "cell_type": "code",
   "source": [
    "#500 line\n",
    "word = \"food\"\n",
    "print(\"Similar words:\", model.wv.most_similar(word, topn=10))\n",
    "print(\"Opposite words:\", model.wv.most_similar(negative=[word], topn=10))\n"
   ],
   "id": "a7ac79eb4de04175",
   "outputs": [
    {
     "name": "stdout",
     "output_type": "stream",
     "text": [
      "Similar words: [('foods', 0.6986084580421448), ('food--', 0.6841468811035156), ('food.Food', 0.6823720932006836), ('Food', 0.671140193939209), ('food-', 0.6673637628555298), ('food.It', 0.6661560535430908), ('food.But', 0.6628791093826294), ('food.As', 0.6627615690231323), ('food.The', 0.6589952707290649), ('foood', 0.6586076617240906)]\n",
      "Opposite words: [('318ti.org', 0.20704932510852814), ('1.0000', 0.2045804262161255), ('Modèle', 0.20429864525794983), ('Arminius', 0.19978246092796326), ('TORR', 0.1995186060667038), ('Quatuor', 0.19865311682224274), ('6.0x', 0.19846433401107788), ('BREACH', 0.1978229284286499), ('Boutell', 0.19723983108997345), ('CS-6', 0.19572767615318298)]\n"
     ]
    }
   ],
   "execution_count": 6
  },
  {
   "metadata": {
    "ExecuteTime": {
     "end_time": "2025-04-12T16:20:48.542991Z",
     "start_time": "2025-04-12T16:17:32.790348Z"
    }
   },
   "cell_type": "code",
   "source": [
    "from gensim.models.fasttext import FastText\n",
    "\n",
    "# Load the updated FastText model\n",
    "model_fineTuned = FastText.load(\"updated_fasttext_yelp.bin\")\n",
    "word = \"food\"\n",
    "similar_words = model_fineTuned.wv.most_similar(word, topn=10)\n",
    "print(\"Similar words:\", similar_words)\n"
   ],
   "id": "fad1dabb91dbed60",
   "outputs": [
    {
     "name": "stdout",
     "output_type": "stream",
     "text": [
      "Similar words: [('foods', 0.7101418375968933), ('food--', 0.6892086267471313), ('food.Food', 0.6853983998298645), ('food.However', 0.6814699172973633), ('food-', 0.6718795299530029), ('food.It', 0.6711847186088562), ('food.But', 0.6683051586151123), ('food.As', 0.6682285666465759), ('Food', 0.6680823564529419), ('food.The', 0.6639886498451233)]\n"
     ]
    }
   ],
   "execution_count": 4
  },
  {
   "metadata": {
    "ExecuteTime": {
     "end_time": "2025-04-12T16:21:42.835444Z",
     "start_time": "2025-04-12T16:21:42.496489Z"
    }
   },
   "cell_type": "code",
   "source": "print(\"Opposite words:\", model_fineTuned.wv.most_similar(negative=[word], topn=10))\n",
   "id": "6d74fb920472964b",
   "outputs": [
    {
     "name": "stdout",
     "output_type": "stream",
     "text": [
      "Opposite words: [('318ti.org', 0.20351459085941315), ('Modèle', 0.20137853920459747), ('1.0000', 0.2009362429380417), ('TORR', 0.19919227063655853), ('Arminius', 0.19694383442401886), ('Quatuor', 0.19538038969039917), ('BREACH', 0.19478459656238556), ('Propuesta', 0.19442413747310638), ('6.0x', 0.19432564079761505), ('Boutell', 0.19373778998851776)]\n"
     ]
    }
   ],
   "execution_count": 5
  },
  {
   "metadata": {
    "ExecuteTime": {
     "end_time": "2025-04-13T07:56:01.648288Z",
     "start_time": "2025-04-13T07:56:01.583673Z"
    }
   },
   "cell_type": "code",
   "source": [
    "\n",
    "update_model = load_facebook_vectors(\"updated_fasttext_yelp.bin\")\n",
    "keywords = [\"food\"]\n"
   ],
   "id": "587088eeec34adc",
   "outputs": [
    {
     "ename": "NotImplementedError",
     "evalue": "Supervised fastText models are not supported",
     "output_type": "error",
     "traceback": [
      "\u001B[31m---------------------------------------------------------------------------\u001B[39m",
      "\u001B[31mNotImplementedError\u001B[39m                       Traceback (most recent call last)",
      "\u001B[36mCell\u001B[39m\u001B[36m \u001B[39m\u001B[32mIn[13]\u001B[39m\u001B[32m, line 1\u001B[39m\n\u001B[32m----> \u001B[39m\u001B[32m1\u001B[39m update_model = \u001B[43mload_facebook_vectors\u001B[49m\u001B[43m(\u001B[49m\u001B[33;43m\"\u001B[39;49m\u001B[33;43mupdated_fasttext_yelp.bin\u001B[39;49m\u001B[33;43m\"\u001B[39;49m\u001B[43m)\u001B[49m\n\u001B[32m      2\u001B[39m keywords = [\u001B[33m\"\u001B[39m\u001B[33mfood\u001B[39m\u001B[33m\"\u001B[39m]\n",
      "\u001B[36mFile \u001B[39m\u001B[32m~\\AppData\\Roaming\\Python\\Python312\\site-packages\\gensim\\models\\fasttext.py:784\u001B[39m, in \u001B[36mload_facebook_vectors\u001B[39m\u001B[34m(path, encoding)\u001B[39m\n\u001B[32m    731\u001B[39m \u001B[38;5;28;01mdef\u001B[39;00m\u001B[38;5;250m \u001B[39m\u001B[34mload_facebook_vectors\u001B[39m(path, encoding=\u001B[33m'\u001B[39m\u001B[33mutf-8\u001B[39m\u001B[33m'\u001B[39m):\n\u001B[32m    732\u001B[39m \u001B[38;5;250m    \u001B[39m\u001B[33;03m\"\"\"Load word embeddings from a model saved in Facebook's native fasttext `.bin` format.\u001B[39;00m\n\u001B[32m    733\u001B[39m \n\u001B[32m    734\u001B[39m \u001B[33;03m    Notes\u001B[39;00m\n\u001B[32m   (...)\u001B[39m\u001B[32m    782\u001B[39m \n\u001B[32m    783\u001B[39m \u001B[33;03m    \"\"\"\u001B[39;00m\n\u001B[32m--> \u001B[39m\u001B[32m784\u001B[39m     full_model = \u001B[43m_load_fasttext_format\u001B[49m\u001B[43m(\u001B[49m\u001B[43mpath\u001B[49m\u001B[43m,\u001B[49m\u001B[43m \u001B[49m\u001B[43mencoding\u001B[49m\u001B[43m=\u001B[49m\u001B[43mencoding\u001B[49m\u001B[43m,\u001B[49m\u001B[43m \u001B[49m\u001B[43mfull_model\u001B[49m\u001B[43m=\u001B[49m\u001B[38;5;28;43;01mFalse\u001B[39;49;00m\u001B[43m)\u001B[49m\n\u001B[32m    785\u001B[39m     \u001B[38;5;28;01mreturn\u001B[39;00m full_model.wv\n",
      "\u001B[36mFile \u001B[39m\u001B[32m~\\AppData\\Roaming\\Python\\Python312\\site-packages\\gensim\\models\\fasttext.py:808\u001B[39m, in \u001B[36m_load_fasttext_format\u001B[39m\u001B[34m(model_file, encoding, full_model)\u001B[39m\n\u001B[32m    789\u001B[39m \u001B[38;5;250m\u001B[39m\u001B[33;03m\"\"\"Load the input-hidden weight matrix from Facebook's native fasttext `.bin` output files.\u001B[39;00m\n\u001B[32m    790\u001B[39m \n\u001B[32m    791\u001B[39m \u001B[33;03mParameters\u001B[39;00m\n\u001B[32m   (...)\u001B[39m\u001B[32m    805\u001B[39m \n\u001B[32m    806\u001B[39m \u001B[33;03m\"\"\"\u001B[39;00m\n\u001B[32m    807\u001B[39m \u001B[38;5;28;01mwith\u001B[39;00m utils.open(model_file, \u001B[33m'\u001B[39m\u001B[33mrb\u001B[39m\u001B[33m'\u001B[39m) \u001B[38;5;28;01mas\u001B[39;00m fin:\n\u001B[32m--> \u001B[39m\u001B[32m808\u001B[39m     m = \u001B[43mgensim\u001B[49m\u001B[43m.\u001B[49m\u001B[43mmodels\u001B[49m\u001B[43m.\u001B[49m\u001B[43m_fasttext_bin\u001B[49m\u001B[43m.\u001B[49m\u001B[43mload\u001B[49m\u001B[43m(\u001B[49m\u001B[43mfin\u001B[49m\u001B[43m,\u001B[49m\u001B[43m \u001B[49m\u001B[43mencoding\u001B[49m\u001B[43m=\u001B[49m\u001B[43mencoding\u001B[49m\u001B[43m,\u001B[49m\u001B[43m \u001B[49m\u001B[43mfull_model\u001B[49m\u001B[43m=\u001B[49m\u001B[43mfull_model\u001B[49m\u001B[43m)\u001B[49m\n\u001B[32m    810\u001B[39m model = FastText(\n\u001B[32m    811\u001B[39m     vector_size=m.dim,\n\u001B[32m    812\u001B[39m     window=m.ws,\n\u001B[32m   (...)\u001B[39m\u001B[32m    821\u001B[39m     max_n=m.maxn,\n\u001B[32m    822\u001B[39m )\n\u001B[32m    823\u001B[39m model.corpus_total_words = m.ntokens\n",
      "\u001B[36mFile \u001B[39m\u001B[32m~\\AppData\\Roaming\\Python\\Python312\\site-packages\\gensim\\models\\_fasttext_bin.py:345\u001B[39m, in \u001B[36mload\u001B[39m\u001B[34m(fin, encoding, full_model)\u001B[39m\n\u001B[32m    342\u001B[39m \u001B[38;5;28;01mif\u001B[39;00m \u001B[38;5;129;01mnot\u001B[39;00m new_format:\n\u001B[32m    343\u001B[39m     model.update(dim=magic, ws=version)\n\u001B[32m--> \u001B[39m\u001B[32m345\u001B[39m raw_vocab, vocab_size, nwords, ntokens = \u001B[43m_load_vocab\u001B[49m\u001B[43m(\u001B[49m\u001B[43mfin\u001B[49m\u001B[43m,\u001B[49m\u001B[43m \u001B[49m\u001B[43mnew_format\u001B[49m\u001B[43m,\u001B[49m\u001B[43m \u001B[49m\u001B[43mencoding\u001B[49m\u001B[43m=\u001B[49m\u001B[43mencoding\u001B[49m\u001B[43m)\u001B[49m\n\u001B[32m    346\u001B[39m model.update(raw_vocab=raw_vocab, vocab_size=vocab_size, nwords=nwords, ntokens=ntokens)\n\u001B[32m    348\u001B[39m vectors_ngrams = _load_matrix(fin, new_format=new_format)\n",
      "\u001B[36mFile \u001B[39m\u001B[32m~\\AppData\\Roaming\\Python\\Python312\\site-packages\\gensim\\models\\_fasttext_bin.py:198\u001B[39m, in \u001B[36m_load_vocab\u001B[39m\u001B[34m(fin, new_format, encoding)\u001B[39m\n\u001B[32m    196\u001B[39m \u001B[38;5;66;03m# Vocab stored by [Dictionary::save](https://github.com/facebookresearch/fastText/blob/master/src/dictionary.cc)\u001B[39;00m\n\u001B[32m    197\u001B[39m \u001B[38;5;28;01mif\u001B[39;00m nlabels > \u001B[32m0\u001B[39m:\n\u001B[32m--> \u001B[39m\u001B[32m198\u001B[39m     \u001B[38;5;28;01mraise\u001B[39;00m \u001B[38;5;167;01mNotImplementedError\u001B[39;00m(\u001B[33m\"\u001B[39m\u001B[33mSupervised fastText models are not supported\u001B[39m\u001B[33m\"\u001B[39m)\n\u001B[32m    199\u001B[39m logger.info(\u001B[33m\"\u001B[39m\u001B[33mloading \u001B[39m\u001B[38;5;132;01m%s\u001B[39;00m\u001B[33m words for fastText model from \u001B[39m\u001B[38;5;132;01m%s\u001B[39;00m\u001B[33m\"\u001B[39m, vocab_size, fin.name)\n\u001B[32m    201\u001B[39m ntokens = _struct_unpack(fin, \u001B[33m'\u001B[39m\u001B[33m@q\u001B[39m\u001B[33m'\u001B[39m)[\u001B[32m0\u001B[39m]  \u001B[38;5;66;03m# number of tokens\u001B[39;00m\n",
      "\u001B[31mNotImplementedError\u001B[39m: Supervised fastText models are not supported"
     ]
    }
   ],
   "execution_count": 13
  },
  {
   "metadata": {},
   "cell_type": "code",
   "outputs": [],
   "execution_count": null,
   "source": "visualize_words_300(update_model, keywords, \"finetuned cc.en.300 Model\")\n",
   "id": "f6c70a213fd83fa3"
  }
 ],
 "metadata": {
  "kernelspec": {
   "display_name": "Python 3",
   "language": "python",
   "name": "python3"
  },
  "language_info": {
   "codemirror_mode": {
    "name": "ipython",
    "version": 2
   },
   "file_extension": ".py",
   "mimetype": "text/x-python",
   "name": "python",
   "nbconvert_exporter": "python",
   "pygments_lexer": "ipython2",
   "version": "2.7.6"
  }
 },
 "nbformat": 4,
 "nbformat_minor": 5
}
